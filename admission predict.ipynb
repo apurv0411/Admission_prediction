{
 "cells": [
  {
   "cell_type": "code",
   "execution_count": 1,
   "id": "76c005a2",
   "metadata": {},
   "outputs": [],
   "source": [
    "import numpy as np\n",
    "import pandas as pd\n",
    "import matplotlib.pyplot as plt\n",
    "import seaborn as sb\n",
    "import warnings\n",
    "warnings.filterwarnings(\"ignore\")"
   ]
  },
  {
   "cell_type": "code",
   "execution_count": 2,
   "id": "8d98782d",
   "metadata": {},
   "outputs": [],
   "source": [
    "#to load csv file\n",
    "df=pd.read_csv(\"Admission_Predict.csv\")"
   ]
  },
  {
   "cell_type": "code",
   "execution_count": 3,
   "id": "aeee52a9",
   "metadata": {},
   "outputs": [
    {
     "data": {
      "text/html": [
       "<div>\n",
       "<style scoped>\n",
       "    .dataframe tbody tr th:only-of-type {\n",
       "        vertical-align: middle;\n",
       "    }\n",
       "\n",
       "    .dataframe tbody tr th {\n",
       "        vertical-align: top;\n",
       "    }\n",
       "\n",
       "    .dataframe thead th {\n",
       "        text-align: right;\n",
       "    }\n",
       "</style>\n",
       "<table border=\"1\" class=\"dataframe\">\n",
       "  <thead>\n",
       "    <tr style=\"text-align: right;\">\n",
       "      <th></th>\n",
       "      <th>Serial No.</th>\n",
       "      <th>GRE Score</th>\n",
       "      <th>TOEFL Score</th>\n",
       "      <th>University Rating</th>\n",
       "      <th>SOP</th>\n",
       "      <th>LOR</th>\n",
       "      <th>CGPA</th>\n",
       "      <th>Research</th>\n",
       "      <th>Chance of Admit</th>\n",
       "    </tr>\n",
       "  </thead>\n",
       "  <tbody>\n",
       "    <tr>\n",
       "      <th>0</th>\n",
       "      <td>1</td>\n",
       "      <td>337</td>\n",
       "      <td>118</td>\n",
       "      <td>4</td>\n",
       "      <td>4.5</td>\n",
       "      <td>4.5</td>\n",
       "      <td>9.65</td>\n",
       "      <td>1</td>\n",
       "      <td>0.92</td>\n",
       "    </tr>\n",
       "    <tr>\n",
       "      <th>1</th>\n",
       "      <td>2</td>\n",
       "      <td>324</td>\n",
       "      <td>107</td>\n",
       "      <td>4</td>\n",
       "      <td>4.0</td>\n",
       "      <td>4.5</td>\n",
       "      <td>8.87</td>\n",
       "      <td>1</td>\n",
       "      <td>0.76</td>\n",
       "    </tr>\n",
       "    <tr>\n",
       "      <th>2</th>\n",
       "      <td>3</td>\n",
       "      <td>316</td>\n",
       "      <td>104</td>\n",
       "      <td>3</td>\n",
       "      <td>3.0</td>\n",
       "      <td>3.5</td>\n",
       "      <td>8.00</td>\n",
       "      <td>1</td>\n",
       "      <td>0.72</td>\n",
       "    </tr>\n",
       "    <tr>\n",
       "      <th>3</th>\n",
       "      <td>4</td>\n",
       "      <td>322</td>\n",
       "      <td>110</td>\n",
       "      <td>3</td>\n",
       "      <td>3.5</td>\n",
       "      <td>2.5</td>\n",
       "      <td>8.67</td>\n",
       "      <td>1</td>\n",
       "      <td>0.80</td>\n",
       "    </tr>\n",
       "    <tr>\n",
       "      <th>4</th>\n",
       "      <td>5</td>\n",
       "      <td>314</td>\n",
       "      <td>103</td>\n",
       "      <td>2</td>\n",
       "      <td>2.0</td>\n",
       "      <td>3.0</td>\n",
       "      <td>8.21</td>\n",
       "      <td>0</td>\n",
       "      <td>0.65</td>\n",
       "    </tr>\n",
       "  </tbody>\n",
       "</table>\n",
       "</div>"
      ],
      "text/plain": [
       "   Serial No.  GRE Score  TOEFL Score  University Rating  SOP  LOR   CGPA  \\\n",
       "0           1        337          118                  4  4.5   4.5  9.65   \n",
       "1           2        324          107                  4  4.0   4.5  8.87   \n",
       "2           3        316          104                  3  3.0   3.5  8.00   \n",
       "3           4        322          110                  3  3.5   2.5  8.67   \n",
       "4           5        314          103                  2  2.0   3.0  8.21   \n",
       "\n",
       "   Research  Chance of Admit   \n",
       "0         1              0.92  \n",
       "1         1              0.76  \n",
       "2         1              0.72  \n",
       "3         1              0.80  \n",
       "4         0              0.65  "
      ]
     },
     "execution_count": 3,
     "metadata": {},
     "output_type": "execute_result"
    }
   ],
   "source": [
    "#to show first five records\n",
    "df.head()"
   ]
  },
  {
   "cell_type": "code",
   "execution_count": 4,
   "id": "617e66e9",
   "metadata": {},
   "outputs": [
    {
     "data": {
      "text/plain": [
       "Serial No.           0\n",
       "GRE Score            0\n",
       "TOEFL Score          0\n",
       "University Rating    0\n",
       "SOP                  0\n",
       "LOR                  0\n",
       "CGPA                 0\n",
       "Research             0\n",
       "Chance of Admit      0\n",
       "dtype: int64"
      ]
     },
     "execution_count": 4,
     "metadata": {},
     "output_type": "execute_result"
    }
   ],
   "source": [
    "#to check nulll values\n",
    "df.isnull().sum()"
   ]
  },
  {
   "cell_type": "code",
   "execution_count": 5,
   "id": "c7996f36",
   "metadata": {},
   "outputs": [
    {
     "data": {
      "text/plain": [
       "Serial No.             int64\n",
       "GRE Score              int64\n",
       "TOEFL Score            int64\n",
       "University Rating      int64\n",
       "SOP                  float64\n",
       "LOR                  float64\n",
       "CGPA                 float64\n",
       "Research               int64\n",
       "Chance of Admit      float64\n",
       "dtype: object"
      ]
     },
     "execution_count": 5,
     "metadata": {},
     "output_type": "execute_result"
    }
   ],
   "source": [
    "#cross check\n",
    "df.dtypes"
   ]
  },
  {
   "cell_type": "code",
   "execution_count": 6,
   "id": "10dacfe5",
   "metadata": {},
   "outputs": [
    {
     "data": {
      "text/plain": [
       "1    219\n",
       "0    181\n",
       "Name: Research, dtype: int64"
      ]
     },
     "execution_count": 6,
     "metadata": {},
     "output_type": "execute_result"
    }
   ],
   "source": [
    "#to check data inbalance\n",
    "df[\"Research\"].value_counts()"
   ]
  },
  {
   "cell_type": "code",
   "execution_count": 7,
   "id": "c97e25df",
   "metadata": {},
   "outputs": [
    {
     "data": {
      "text/plain": [
       "0"
      ]
     },
     "execution_count": 7,
     "metadata": {},
     "output_type": "execute_result"
    }
   ],
   "source": [
    "#to find duplicated rows\n",
    "df.duplicated().sum()"
   ]
  },
  {
   "cell_type": "code",
   "execution_count": 8,
   "id": "75ec77aa",
   "metadata": {},
   "outputs": [],
   "source": [
    "#select input & output\n",
    "x=df.drop(\"Research\",axis=1)\n",
    "y=df[\"Research\"]#1d aaray"
   ]
  },
  {
   "cell_type": "code",
   "execution_count": 9,
   "id": "2861a3a1",
   "metadata": {},
   "outputs": [],
   "source": [
    "#train test split\n",
    "from sklearn.model_selection import train_test_split\n",
    "x_train,x_test,y_train,y_test=train_test_split(x,y,test_size=0.3,random_state=1)"
   ]
  },
  {
   "cell_type": "code",
   "execution_count": 10,
   "id": "049c367f",
   "metadata": {},
   "outputs": [],
   "source": [
    "#apply scalling on x_train and x_test\n",
    "from sklearn.preprocessing import StandardScaler\n",
    "#create object of StandardScaler class\n",
    "ss=StandardScaler()\n",
    "x_train=ss.fit_transform(x_train) #concvert into numpy array \n",
    "x_test=ss.transform(x_test)  #also convert into numpoy array "
   ]
  },
  {
   "cell_type": "code",
   "execution_count": 11,
   "id": "b1d2a016",
   "metadata": {},
   "outputs": [
    {
     "data": {
      "text/plain": [
       "array([[-1.34893477, -0.88130652,  0.08218457, ...,  0.05212093,\n",
       "        -1.53028029, -1.78799905],\n",
       "       [-0.23389666, -0.35515338, -0.89013991, ..., -0.48839242,\n",
       "        -0.5688098 , -0.63228765],\n",
       "       [ 1.64773013, -1.49515186, -1.21424806, ...,  0.05212093,\n",
       "        -0.5856777 , -0.77675157],\n",
       "       ...,\n",
       "       [ 1.76097619,  0.69715292, -0.07986951, ...,  0.05212093,\n",
       "         0.84809409,  0.81235161],\n",
       "       [ 0.35846733,  0.78484511,  0.56834681, ...,  0.59263428,\n",
       "         1.05050893,  1.10127946],\n",
       "       [-1.36635724, -1.49515186, -0.40397767, ..., -1.56941911,\n",
       "        -1.36160126, -1.06567942]])"
      ]
     },
     "execution_count": 11,
     "metadata": {},
     "output_type": "execute_result"
    }
   ],
   "source": [
    "x_train"
   ]
  },
  {
   "cell_type": "code",
   "execution_count": 12,
   "id": "106f7014",
   "metadata": {},
   "outputs": [],
   "source": [
    "#create a function \n",
    "def create_model(model): #user defined function #model=which hold the obj of aklgorithm\n",
    "    #d1st train the model with 70% data \n",
    "    model.fit(x_train,y_train)\n",
    "    #then test the model with 30% data\n",
    "    y_pred=model.predict(x_test)\n",
    "    #generate report\n",
    "    print(classification_report(y_test,y_pred))\n",
    "    print(confusion_matrix(y_test,y_pred))\n",
    "    return model"
   ]
  },
  {
   "cell_type": "code",
   "execution_count": 13,
   "id": "02b64e6e",
   "metadata": {},
   "outputs": [],
   "source": [
    "from sklearn.metrics import classification_report,confusion_matrix"
   ]
  },
  {
   "cell_type": "markdown",
   "id": "05cfb1ff",
   "metadata": {},
   "source": [
    "## LogisticRegression"
   ]
  },
  {
   "cell_type": "code",
   "execution_count": 14,
   "id": "d8dddcb9",
   "metadata": {},
   "outputs": [],
   "source": [
    "from sklearn.linear_model import  LogisticRegression"
   ]
  },
  {
   "cell_type": "code",
   "execution_count": 15,
   "id": "d5dcd23b",
   "metadata": {},
   "outputs": [],
   "source": [
    "#create obj of from LogisticRegression\n",
    "lr=LogisticRegression()"
   ]
  },
  {
   "cell_type": "code",
   "execution_count": 16,
   "id": "bc4201ad",
   "metadata": {},
   "outputs": [
    {
     "name": "stdout",
     "output_type": "stream",
     "text": [
      "              precision    recall  f1-score   support\n",
      "\n",
      "           0       0.74      0.82      0.78        51\n",
      "           1       0.86      0.78      0.82        69\n",
      "\n",
      "    accuracy                           0.80       120\n",
      "   macro avg       0.80      0.80      0.80       120\n",
      "weighted avg       0.81      0.80      0.80       120\n",
      "\n",
      "[[42  9]\n",
      " [15 54]]\n"
     ]
    }
   ],
   "source": [
    "#call the function\n",
    "lr=create_model(lr)"
   ]
  },
  {
   "cell_type": "markdown",
   "id": "8af87475",
   "metadata": {},
   "source": [
    "#### recall=0.78"
   ]
  },
  {
   "cell_type": "markdown",
   "id": "3520292a",
   "metadata": {},
   "source": [
    "## DecisionTreeClassifier"
   ]
  },
  {
   "cell_type": "code",
   "execution_count": 17,
   "id": "558d140c",
   "metadata": {},
   "outputs": [],
   "source": [
    "from sklearn.tree import DecisionTreeClassifier"
   ]
  },
  {
   "cell_type": "code",
   "execution_count": 18,
   "id": "5dd7c055",
   "metadata": {},
   "outputs": [],
   "source": [
    "#create obj of from DecisionTreeClassifier by defaut gini index\n",
    "dt=DecisionTreeClassifier(random_state=1)"
   ]
  },
  {
   "cell_type": "code",
   "execution_count": 19,
   "id": "92636dc0",
   "metadata": {},
   "outputs": [
    {
     "name": "stdout",
     "output_type": "stream",
     "text": [
      "              precision    recall  f1-score   support\n",
      "\n",
      "           0       0.66      0.80      0.73        51\n",
      "           1       0.83      0.70      0.76        69\n",
      "\n",
      "    accuracy                           0.74       120\n",
      "   macro avg       0.74      0.75      0.74       120\n",
      "weighted avg       0.76      0.74      0.74       120\n",
      "\n",
      "[[41 10]\n",
      " [21 48]]\n"
     ]
    }
   ],
   "source": [
    "#call the model\n",
    "dt=create_model(dt)"
   ]
  },
  {
   "cell_type": "markdown",
   "id": "203a0b93",
   "metadata": {},
   "source": [
    "#### recall =0.70"
   ]
  },
  {
   "cell_type": "markdown",
   "id": "50aeaaa5",
   "metadata": {},
   "source": [
    "## pruning techniques"
   ]
  },
  {
   "cell_type": "code",
   "execution_count": 20,
   "id": "de62dbb3",
   "metadata": {},
   "outputs": [],
   "source": [
    "#Pruning Technique : max_depth  : the value of max_depth cannot more than\n",
    "#8  (means <=8) \n",
    "#create object of DecisionTreeClassifier class with gini index and \n",
    "#use parameter max_depth (to remove overfitting)"
   ]
  },
  {
   "cell_type": "code",
   "execution_count": 21,
   "id": "ed41138a",
   "metadata": {},
   "outputs": [
    {
     "data": {
      "text/plain": [
       "'for i in range(1,9):\\n    dt1=DecisionTreeClassifier(random_state=1,max_depth=i)\\n    print(\"max_depth :\",i)\\n    dt1=create_model(dt1)'"
      ]
     },
     "execution_count": 21,
     "metadata": {},
     "output_type": "execute_result"
    }
   ],
   "source": [
    "'''for i in range(1,9):\n",
    "    dt1=DecisionTreeClassifier(random_state=1,max_depth=i)\n",
    "    print(\"max_depth :\",i)\n",
    "    dt1=create_model(dt1)'''"
   ]
  },
  {
   "cell_type": "code",
   "execution_count": 22,
   "id": "73e5fb64",
   "metadata": {},
   "outputs": [
    {
     "name": "stdout",
     "output_type": "stream",
     "text": [
      "              precision    recall  f1-score   support\n",
      "\n",
      "           0       0.75      0.76      0.76        51\n",
      "           1       0.82      0.81      0.82        69\n",
      "\n",
      "    accuracy                           0.79       120\n",
      "   macro avg       0.79      0.79      0.79       120\n",
      "weighted avg       0.79      0.79      0.79       120\n",
      "\n",
      "[[39 12]\n",
      " [13 56]]\n"
     ]
    }
   ],
   "source": [
    "dt1=DecisionTreeClassifier(random_state=1,max_depth=6)\n",
    "dt1=create_model(dt1)"
   ]
  },
  {
   "cell_type": "markdown",
   "id": "1ff87d64",
   "metadata": {},
   "source": [
    "#### recall =0.81"
   ]
  },
  {
   "cell_type": "code",
   "execution_count": 23,
   "id": "9f7ceac1",
   "metadata": {},
   "outputs": [],
   "source": [
    "#2nd pruning technique:min_samples_leaf=it is used to reduce overfitting"
   ]
  },
  {
   "cell_type": "code",
   "execution_count": 24,
   "id": "6d0f1324",
   "metadata": {},
   "outputs": [
    {
     "data": {
      "text/plain": [
       "'for i in range(45,101):\\n    dt2=DecisionTreeClassifier(random_state=1,min_samples_leaf=i)\\n    print(\"mean_samples_leaf :\",i)\\n    dt2=create_model(dt2)'"
      ]
     },
     "execution_count": 24,
     "metadata": {},
     "output_type": "execute_result"
    }
   ],
   "source": [
    "'''for i in range(45,101):\n",
    "    dt2=DecisionTreeClassifier(random_state=1,min_samples_leaf=i)\n",
    "    print(\"mean_samples_leaf :\",i)\n",
    "    dt2=create_model(dt2)'''"
   ]
  },
  {
   "cell_type": "code",
   "execution_count": 25,
   "id": "8c83114b",
   "metadata": {},
   "outputs": [
    {
     "name": "stdout",
     "output_type": "stream",
     "text": [
      "              precision    recall  f1-score   support\n",
      "\n",
      "           0       0.64      0.92      0.75        51\n",
      "           1       0.91      0.61      0.73        69\n",
      "\n",
      "    accuracy                           0.74       120\n",
      "   macro avg       0.77      0.77      0.74       120\n",
      "weighted avg       0.79      0.74      0.74       120\n",
      "\n",
      "[[47  4]\n",
      " [27 42]]\n"
     ]
    }
   ],
   "source": [
    "dt2=DecisionTreeClassifier(random_state=1,min_samples_leaf=45)\n",
    "dt2=create_model(dt2)"
   ]
  },
  {
   "cell_type": "markdown",
   "id": "f7d25da8",
   "metadata": {},
   "source": [
    "#### recall=0.61"
   ]
  },
  {
   "cell_type": "markdown",
   "id": "9e0dc301",
   "metadata": {},
   "source": [
    "## DecisionTreeClassifier(entropy)"
   ]
  },
  {
   "cell_type": "code",
   "execution_count": 26,
   "id": "4c6acb00",
   "metadata": {},
   "outputs": [],
   "source": [
    "#create obj of from DecisionTreeClassifier by defaut entropy index\n",
    "dt=DecisionTreeClassifier(random_state=1,criterion=\"entropy\") "
   ]
  },
  {
   "cell_type": "code",
   "execution_count": 27,
   "id": "38f43c22",
   "metadata": {},
   "outputs": [
    {
     "name": "stdout",
     "output_type": "stream",
     "text": [
      "              precision    recall  f1-score   support\n",
      "\n",
      "           0       0.57      0.69      0.62        51\n",
      "           1       0.73      0.62      0.67        69\n",
      "\n",
      "    accuracy                           0.65       120\n",
      "   macro avg       0.65      0.65      0.65       120\n",
      "weighted avg       0.66      0.65      0.65       120\n",
      "\n",
      "[[35 16]\n",
      " [26 43]]\n"
     ]
    }
   ],
   "source": [
    "#call the model\n",
    "dt=create_model(dt)"
   ]
  },
  {
   "cell_type": "markdown",
   "id": "eed4e6da",
   "metadata": {},
   "source": [
    "#### recall=0.62"
   ]
  },
  {
   "cell_type": "markdown",
   "id": "8268816e",
   "metadata": {},
   "source": [
    "## pruning techniques"
   ]
  },
  {
   "cell_type": "code",
   "execution_count": 28,
   "id": "b37149b2",
   "metadata": {},
   "outputs": [],
   "source": [
    "#Pruning Technique : max_depth  : the value of max_depth cannot more than\n",
    "#8  (means <=8) \n",
    "#create object of DecisionTreeClassifier class with gini index and \n",
    "#use parameter max_depth (to remove overfitting)"
   ]
  },
  {
   "cell_type": "code",
   "execution_count": 29,
   "id": "9ce019b8",
   "metadata": {},
   "outputs": [
    {
     "data": {
      "text/plain": [
       "'for i in range(1,9):\\n    dt1=DecisionTreeClassifier(random_state=1,max_depth=i,criterion=\"entropy\")\\n    print(\"max_depth :\",i)\\n    dt1=create_model(dt1)'"
      ]
     },
     "execution_count": 29,
     "metadata": {},
     "output_type": "execute_result"
    }
   ],
   "source": [
    "'''for i in range(1,9):\n",
    "    dt1=DecisionTreeClassifier(random_state=1,max_depth=i,criterion=\"entropy\")\n",
    "    print(\"max_depth :\",i)\n",
    "    dt1=create_model(dt1)'''"
   ]
  },
  {
   "cell_type": "code",
   "execution_count": 30,
   "id": "33111c1a",
   "metadata": {},
   "outputs": [
    {
     "name": "stdout",
     "output_type": "stream",
     "text": [
      "              precision    recall  f1-score   support\n",
      "\n",
      "           0       0.65      0.90      0.75        51\n",
      "           1       0.90      0.64      0.75        69\n",
      "\n",
      "    accuracy                           0.75       120\n",
      "   macro avg       0.77      0.77      0.75       120\n",
      "weighted avg       0.79      0.75      0.75       120\n",
      "\n",
      "[[46  5]\n",
      " [25 44]]\n"
     ]
    }
   ],
   "source": [
    "dt1=DecisionTreeClassifier(random_state=1,max_depth=4,criterion=\"entropy\")\n",
    "dt1=create_model(dt1)"
   ]
  },
  {
   "cell_type": "markdown",
   "id": "ae3ad6bc",
   "metadata": {},
   "source": [
    "#### recall=0.62"
   ]
  },
  {
   "cell_type": "code",
   "execution_count": 31,
   "id": "2a437035",
   "metadata": {},
   "outputs": [],
   "source": [
    "#2nd pruning technique:min_samples_leaf=it is used to reduce overfitting"
   ]
  },
  {
   "cell_type": "code",
   "execution_count": 32,
   "id": "b9761b4b",
   "metadata": {},
   "outputs": [
    {
     "data": {
      "text/plain": [
       "'for i in range(45,101):\\n    dt2=DecisionTreeClassifier(random_state=1,min_samples_leaf=i,criterion=\"entropy\")\\n    print(\"mean_samples_leaf :\",i)\\n    dt2=create_model(dt2)'"
      ]
     },
     "execution_count": 32,
     "metadata": {},
     "output_type": "execute_result"
    }
   ],
   "source": [
    "'''for i in range(45,101):\n",
    "    dt2=DecisionTreeClassifier(random_state=1,min_samples_leaf=i,criterion=\"entropy\")\n",
    "    print(\"mean_samples_leaf :\",i)\n",
    "    dt2=create_model(dt2)'''"
   ]
  },
  {
   "cell_type": "code",
   "execution_count": 33,
   "id": "c53a5947",
   "metadata": {},
   "outputs": [
    {
     "name": "stdout",
     "output_type": "stream",
     "text": [
      "              precision    recall  f1-score   support\n",
      "\n",
      "           0       0.64      0.92      0.75        51\n",
      "           1       0.91      0.61      0.73        69\n",
      "\n",
      "    accuracy                           0.74       120\n",
      "   macro avg       0.77      0.77      0.74       120\n",
      "weighted avg       0.79      0.74      0.74       120\n",
      "\n",
      "[[47  4]\n",
      " [27 42]]\n"
     ]
    }
   ],
   "source": [
    "dt2=DecisionTreeClassifier(random_state=1,min_samples_leaf=45,criterion=\"entropy\")\n",
    "dt2=create_model(dt2)"
   ]
  },
  {
   "cell_type": "markdown",
   "id": "32a9070c",
   "metadata": {},
   "source": [
    "#### recall=0.61"
   ]
  },
  {
   "cell_type": "markdown",
   "id": "972d4cd3",
   "metadata": {},
   "source": [
    "## RandomForestClassifier"
   ]
  },
  {
   "cell_type": "code",
   "execution_count": 34,
   "id": "903e5581",
   "metadata": {},
   "outputs": [],
   "source": [
    "from sklearn.ensemble import RandomForestClassifier"
   ]
  },
  {
   "cell_type": "code",
   "execution_count": 35,
   "id": "66af7480",
   "metadata": {},
   "outputs": [],
   "source": [
    "#create obj of RandomForestClassifier"
   ]
  },
  {
   "cell_type": "code",
   "execution_count": 36,
   "id": "2467ac47",
   "metadata": {},
   "outputs": [
    {
     "data": {
      "text/plain": [
       "'for i in range (10,101):\\n    rfc=RandomForestClassifier(n_estimators=i,random_state=1)\\n    print(\"no of decision trees:\",i)\\n    rfc=create_model(rfc)\\n    print(rfc)'"
      ]
     },
     "execution_count": 36,
     "metadata": {},
     "output_type": "execute_result"
    }
   ],
   "source": [
    "'''for i in range (10,101):\n",
    "    rfc=RandomForestClassifier(n_estimators=i,random_state=1)\n",
    "    print(\"no of decision trees:\",i)\n",
    "    rfc=create_model(rfc)\n",
    "    print(rfc)'''"
   ]
  },
  {
   "cell_type": "code",
   "execution_count": 37,
   "id": "8b0f2cf6",
   "metadata": {},
   "outputs": [
    {
     "name": "stdout",
     "output_type": "stream",
     "text": [
      "              precision    recall  f1-score   support\n",
      "\n",
      "           0       0.76      0.82      0.79        51\n",
      "           1       0.86      0.81      0.84        69\n",
      "\n",
      "    accuracy                           0.82       120\n",
      "   macro avg       0.81      0.82      0.81       120\n",
      "weighted avg       0.82      0.82      0.82       120\n",
      "\n",
      "[[42  9]\n",
      " [13 56]]\n",
      "RandomForestClassifier(n_estimators=13, random_state=1)\n"
     ]
    }
   ],
   "source": [
    "rfc=RandomForestClassifier(n_estimators=13,random_state=1)\n",
    "rfc=create_model(rfc)\n",
    "print(rfc)"
   ]
  },
  {
   "cell_type": "markdown",
   "id": "d4e7a172",
   "metadata": {},
   "source": [
    "#### RECALL=0.81"
   ]
  },
  {
   "cell_type": "markdown",
   "id": "90204287",
   "metadata": {},
   "source": [
    "## pruning technique"
   ]
  },
  {
   "cell_type": "code",
   "execution_count": 38,
   "id": "6b0bf495",
   "metadata": {},
   "outputs": [],
   "source": [
    "#Pruning Technique : max_depth  : the value of max_depth cannot more than\n",
    "#8  (means <=8) \n",
    "#create object of DecisionTreeClassifier class with gini index and \n",
    "#use parameter max_depth (to remove overfitting)"
   ]
  },
  {
   "cell_type": "code",
   "execution_count": 39,
   "id": "116a154d",
   "metadata": {},
   "outputs": [
    {
     "data": {
      "text/plain": [
       "'for i in range(1,9):\\n    rfc1=RandomForestClassifier(n_estimators=13,random_state=1,max_depth=i)\\n    print (\"no of decision tree:\",i)\\n    rfc1=create_model(rfc1)\\n    print(rfc1)'"
      ]
     },
     "execution_count": 39,
     "metadata": {},
     "output_type": "execute_result"
    }
   ],
   "source": [
    "'''for i in range(1,9):\n",
    "    rfc1=RandomForestClassifier(n_estimators=13,random_state=1,max_depth=i)\n",
    "    print (\"no of decision tree:\",i)\n",
    "    rfc1=create_model(rfc1)\n",
    "    print(rfc1)'''"
   ]
  },
  {
   "cell_type": "code",
   "execution_count": 40,
   "id": "8181ae23",
   "metadata": {},
   "outputs": [
    {
     "name": "stdout",
     "output_type": "stream",
     "text": [
      "              precision    recall  f1-score   support\n",
      "\n",
      "           0       0.75      0.80      0.77        51\n",
      "           1       0.85      0.80      0.82        69\n",
      "\n",
      "    accuracy                           0.80       120\n",
      "   macro avg       0.80      0.80      0.80       120\n",
      "weighted avg       0.80      0.80      0.80       120\n",
      "\n",
      "[[41 10]\n",
      " [14 55]]\n",
      "RandomForestClassifier(max_depth=7, n_estimators=13, random_state=1)\n"
     ]
    }
   ],
   "source": [
    "rfc1=RandomForestClassifier(n_estimators=13,random_state=1,max_depth=7)\n",
    "rfc1=create_model(rfc1)\n",
    "print(rfc1)"
   ]
  },
  {
   "cell_type": "markdown",
   "id": "3778c062",
   "metadata": {},
   "source": [
    "#### RECALL=0.80"
   ]
  },
  {
   "cell_type": "code",
   "execution_count": 41,
   "id": "8fd87fb1",
   "metadata": {},
   "outputs": [],
   "source": [
    "#2nd pruning technique:min_samples_leaf=it is used to reduce overfitting"
   ]
  },
  {
   "cell_type": "code",
   "execution_count": 42,
   "id": "55f33b31",
   "metadata": {},
   "outputs": [
    {
     "data": {
      "text/plain": [
       "'for i in range(45,101):\\n    rfc1=RandomForestClassifier(n_estimators=13,random_state=1,min_samples_leaf=i)\\n    print (\"no of decision tree:\",i)\\n    rfc1=create_model(rfc1)\\n    print(rfc1)'"
      ]
     },
     "execution_count": 42,
     "metadata": {},
     "output_type": "execute_result"
    }
   ],
   "source": [
    "'''for i in range(45,101):\n",
    "    rfc1=RandomForestClassifier(n_estimators=13,random_state=1,min_samples_leaf=i)\n",
    "    print (\"no of decision tree:\",i)\n",
    "    rfc1=create_model(rfc1)\n",
    "    print(rfc1)'''"
   ]
  },
  {
   "cell_type": "code",
   "execution_count": 43,
   "id": "55a2eb3c",
   "metadata": {},
   "outputs": [
    {
     "name": "stdout",
     "output_type": "stream",
     "text": [
      "              precision    recall  f1-score   support\n",
      "\n",
      "           0       0.77      0.71      0.73        51\n",
      "           1       0.79      0.84      0.82        69\n",
      "\n",
      "    accuracy                           0.78       120\n",
      "   macro avg       0.78      0.77      0.78       120\n",
      "weighted avg       0.78      0.78      0.78       120\n",
      "\n",
      "[[36 15]\n",
      " [11 58]]\n",
      "RandomForestClassifier(min_samples_leaf=89, n_estimators=13, random_state=1)\n"
     ]
    }
   ],
   "source": [
    "rfc1=RandomForestClassifier(n_estimators=13,random_state=1,min_samples_leaf=89)\n",
    "rfc1=create_model(rfc1)\n",
    "print(rfc1)"
   ]
  },
  {
   "cell_type": "markdown",
   "id": "3399f01f",
   "metadata": {},
   "source": [
    "#### recall=0.84"
   ]
  },
  {
   "cell_type": "markdown",
   "id": "461f2b8d",
   "metadata": {},
   "source": [
    "##1. AdaBoostClassifier"
   ]
  },
  {
   "cell_type": "code",
   "execution_count": 44,
   "id": "1f38356c",
   "metadata": {},
   "outputs": [],
   "source": [
    "from sklearn.ensemble import AdaBoostClassifier"
   ]
  },
  {
   "cell_type": "code",
   "execution_count": 49,
   "id": "d18dacaa",
   "metadata": {},
   "outputs": [
    {
     "data": {
      "text/plain": [
       "'for i in range(1,14):\\n    ada = AdaBoostClassifier(n_estimators=i, random_state=1)\\n    print(\"No of Decision Stump: \", i)\\n    ada = create_model(ada)'"
      ]
     },
     "execution_count": 49,
     "metadata": {},
     "output_type": "execute_result"
    }
   ],
   "source": [
    "'''for i in range(1,14):\n",
    "    ada = AdaBoostClassifier(n_estimators=i, random_state=1)\n",
    "    print(\"No of Decision Stump: \", i)\n",
    "    ada = create_model(ada)'''"
   ]
  },
  {
   "cell_type": "code",
   "execution_count": 50,
   "id": "30af6585",
   "metadata": {},
   "outputs": [
    {
     "name": "stdout",
     "output_type": "stream",
     "text": [
      "              precision    recall  f1-score   support\n",
      "\n",
      "           0       0.65      0.86      0.74        51\n",
      "           1       0.87      0.65      0.74        69\n",
      "\n",
      "    accuracy                           0.74       120\n",
      "   macro avg       0.76      0.76      0.74       120\n",
      "weighted avg       0.77      0.74      0.74       120\n",
      "\n",
      "[[44  7]\n",
      " [24 45]]\n"
     ]
    }
   ],
   "source": [
    "ada = AdaBoostClassifier(n_estimators=13, random_state=1)\n",
    "ada = create_model(ada)\n",
    "# n_estimators means how many decision stump, decision stump deend on the no of input.....here input =13"
   ]
  },
  {
   "cell_type": "markdown",
   "id": "5570b7a1",
   "metadata": {},
   "source": [
    "#### recall : 0.65"
   ]
  },
  {
   "cell_type": "markdown",
   "id": "0f72e97a",
   "metadata": {},
   "source": [
    "## 2. Gradient Boosting(GB) "
   ]
  },
  {
   "cell_type": "code",
   "execution_count": 56,
   "id": "9a079912",
   "metadata": {},
   "outputs": [],
   "source": [
    "from sklearn.ensemble import GradientBoostingClassifier"
   ]
  },
  {
   "cell_type": "code",
   "execution_count": 57,
   "id": "5771035c",
   "metadata": {},
   "outputs": [
    {
     "data": {
      "text/plain": [
       "'for i in range(10,101):\\n    gbc = GradientBoostingClassifier(n_estimators=i, random_state=1)  # n_estimators >=10 and <=100\\n    print(\"Esimators: \", i)\\n    gbc = create_model(gbc)'"
      ]
     },
     "execution_count": 57,
     "metadata": {},
     "output_type": "execute_result"
    }
   ],
   "source": [
    "'''for i in range(10,101):\n",
    "    gbc = GradientBoostingClassifier(n_estimators=i, random_state=1)  # n_estimators >=10 and <=100\n",
    "    print(\"Esimators: \", i)\n",
    "    gbc = create_model(gbc)'''"
   ]
  },
  {
   "cell_type": "code",
   "execution_count": 55,
   "id": "3756ecf5",
   "metadata": {},
   "outputs": [
    {
     "name": "stdout",
     "output_type": "stream",
     "text": [
      "              precision    recall  f1-score   support\n",
      "\n",
      "           0       0.71      0.82      0.76        51\n",
      "           1       0.85      0.75      0.80        69\n",
      "\n",
      "    accuracy                           0.78       120\n",
      "   macro avg       0.78      0.79      0.78       120\n",
      "weighted avg       0.79      0.78      0.78       120\n",
      "\n",
      "[[42  9]\n",
      " [17 52]]\n"
     ]
    }
   ],
   "source": [
    "gbc = GradientBoostingClassifier(n_estimators=64, random_state=1) \n",
    "gbc = create_model(gbc)"
   ]
  },
  {
   "cell_type": "markdown",
   "id": "4e6418f5",
   "metadata": {},
   "source": [
    "#### recall : 0.75"
   ]
  },
  {
   "cell_type": "markdown",
   "id": "90b51a71",
   "metadata": {},
   "source": [
    "## 3.Extreame Gradient Boosting"
   ]
  },
  {
   "cell_type": "code",
   "execution_count": 59,
   "id": "1e40b93c",
   "metadata": {},
   "outputs": [
    {
     "name": "stdout",
     "output_type": "stream",
     "text": [
      "Collecting xgboost\n",
      "  Downloading xgboost-1.7.1-py3-none-win_amd64.whl (89.1 MB)\n",
      "Requirement already satisfied: numpy in c:\\users\\dell\\anaconda3\\lib\\site-packages (from xgboost) (1.21.5)\n",
      "Requirement already satisfied: scipy in c:\\users\\dell\\anaconda3\\lib\\site-packages (from xgboost) (1.7.3)\n",
      "Installing collected packages: xgboost\n",
      "Successfully installed xgboost-1.7.1\n"
     ]
    }
   ],
   "source": [
    "#pip install xgboost"
   ]
  },
  {
   "cell_type": "code",
   "execution_count": 60,
   "id": "92588a77",
   "metadata": {},
   "outputs": [],
   "source": [
    "from xgboost import XGBClassifier"
   ]
  },
  {
   "cell_type": "code",
   "execution_count": 63,
   "id": "f0173df0",
   "metadata": {},
   "outputs": [
    {
     "data": {
      "text/plain": [
       "\"for i in range(10,100):\\n    xgc = XGBClassifier(n_estimators= i,reg_alpha =1, random_state =1)\\n    print('no of estimators:',i)\\n    xgc = create_model(xgc)\""
      ]
     },
     "execution_count": 63,
     "metadata": {},
     "output_type": "execute_result"
    }
   ],
   "source": [
    "'''for i in range(10,100):\n",
    "    xgc = XGBClassifier(n_estimators= i,reg_alpha =1, random_state =1)\n",
    "    print('no of estimators:',i)\n",
    "    xgc = create_model(xgc)'''"
   ]
  },
  {
   "cell_type": "code",
   "execution_count": 64,
   "id": "94b9926a",
   "metadata": {},
   "outputs": [
    {
     "name": "stdout",
     "output_type": "stream",
     "text": [
      "              precision    recall  f1-score   support\n",
      "\n",
      "           0       0.66      0.76      0.71        51\n",
      "           1       0.80      0.71      0.75        69\n",
      "\n",
      "    accuracy                           0.73       120\n",
      "   macro avg       0.73      0.74      0.73       120\n",
      "weighted avg       0.74      0.73      0.73       120\n",
      "\n",
      "[[39 12]\n",
      " [20 49]]\n"
     ]
    }
   ],
   "source": [
    "xgc = XGBClassifier(n_estimators= i,reg_alpha =1, random_state =1)\n",
    "xgc = create_model(xgc)"
   ]
  },
  {
   "cell_type": "markdown",
   "id": "61b3229b",
   "metadata": {},
   "source": [
    "#### recall : 0.71"
   ]
  },
  {
   "cell_type": "markdown",
   "id": "c71d2b10",
   "metadata": {},
   "source": [
    "## svm"
   ]
  },
  {
   "cell_type": "code",
   "execution_count": 47,
   "id": "e83bfe8b",
   "metadata": {},
   "outputs": [],
   "source": [
    "from sklearn.svm import LinearSVC"
   ]
  },
  {
   "cell_type": "code",
   "execution_count": 65,
   "id": "5fb8fc51",
   "metadata": {},
   "outputs": [],
   "source": [
    "#create obj of linearSVC\n",
    "svc=LinearSVC(random_state=1)\n",
    "#no add any error means suppose no outlier in our daataset means it is hard margin"
   ]
  },
  {
   "cell_type": "code",
   "execution_count": 66,
   "id": "9f030d7c",
   "metadata": {},
   "outputs": [
    {
     "name": "stdout",
     "output_type": "stream",
     "text": [
      "              precision    recall  f1-score   support\n",
      "\n",
      "           0       0.74      0.82      0.78        51\n",
      "           1       0.86      0.78      0.82        69\n",
      "\n",
      "    accuracy                           0.80       120\n",
      "   macro avg       0.80      0.80      0.80       120\n",
      "weighted avg       0.81      0.80      0.80       120\n",
      "\n",
      "[[42  9]\n",
      " [15 54]]\n"
     ]
    }
   ],
   "source": [
    "#call function\n",
    "svc=create_model(svc)"
   ]
  },
  {
   "cell_type": "markdown",
   "id": "065e4066",
   "metadata": {},
   "source": [
    "#### recall=0.78"
   ]
  },
  {
   "cell_type": "code",
   "execution_count": 71,
   "id": "7972df7b",
   "metadata": {},
   "outputs": [],
   "source": [
    "#suppose outlier in our dataset means model overfitted \n",
    "#so reduce the overfit of model or remove outlier from given dataset ,\n",
    "#add some external error during training error means soft margin\n",
    "#Means again create the object of class LinearSVC  and passing parameter\n",
    "#C means error parameter , the value of C can be <=1\n",
    "svc1=LinearSVC(random_state=1,C=0.9)  #SOFT MARGIN"
   ]
  },
  {
   "cell_type": "code",
   "execution_count": 72,
   "id": "79459ca2",
   "metadata": {},
   "outputs": [
    {
     "name": "stdout",
     "output_type": "stream",
     "text": [
      "              precision    recall  f1-score   support\n",
      "\n",
      "           0       0.74      0.82      0.78        51\n",
      "           1       0.86      0.78      0.82        69\n",
      "\n",
      "    accuracy                           0.80       120\n",
      "   macro avg       0.80      0.80      0.80       120\n",
      "weighted avg       0.81      0.80      0.80       120\n",
      "\n",
      "[[42  9]\n",
      " [15 54]]\n"
     ]
    }
   ],
   "source": [
    "#call function\n",
    "svc1=create_model(svc1)"
   ]
  },
  {
   "cell_type": "markdown",
   "id": "20c2b0d6",
   "metadata": {},
   "source": [
    "#### recall=0.78"
   ]
  },
  {
   "cell_type": "markdown",
   "id": "cb36168f",
   "metadata": {},
   "source": [
    "## polynomial kernal function"
   ]
  },
  {
   "cell_type": "code",
   "execution_count": 73,
   "id": "934ac3a0",
   "metadata": {},
   "outputs": [],
   "source": [
    "#call inbuilt class SVC\n",
    "from sklearn.svm import SVC"
   ]
  },
  {
   "cell_type": "code",
   "execution_count": 74,
   "id": "bbc2dd9b",
   "metadata": {},
   "outputs": [],
   "source": [
    "#CREATE OBJ of SVC class(use polynomial)\n",
    "poly_svc=SVC(random_state=1,kernel='poly')"
   ]
  },
  {
   "cell_type": "code",
   "execution_count": 75,
   "id": "beef9bef",
   "metadata": {},
   "outputs": [
    {
     "name": "stdout",
     "output_type": "stream",
     "text": [
      "              precision    recall  f1-score   support\n",
      "\n",
      "           0       0.65      0.59      0.62        51\n",
      "           1       0.72      0.77      0.74        69\n",
      "\n",
      "    accuracy                           0.69       120\n",
      "   macro avg       0.68      0.68      0.68       120\n",
      "weighted avg       0.69      0.69      0.69       120\n",
      "\n",
      "[[30 21]\n",
      " [16 53]]\n"
     ]
    }
   ],
   "source": [
    "#call function\n",
    "poly_svc=create_model(poly_svc)"
   ]
  },
  {
   "cell_type": "markdown",
   "id": "191502d2",
   "metadata": {},
   "source": [
    "#### recall=0.77"
   ]
  },
  {
   "cell_type": "markdown",
   "id": "228e395c",
   "metadata": {},
   "source": [
    "## Radial kernal function"
   ]
  },
  {
   "cell_type": "code",
   "execution_count": 76,
   "id": "477280e6",
   "metadata": {},
   "outputs": [],
   "source": [
    "#CREATE OBJ of SVC class(use radial) :value of kernal =rbf\n",
    "#rbf=radial basic function\n",
    "r_svc=SVC(random_state=1,kernel='rbf')"
   ]
  },
  {
   "cell_type": "code",
   "execution_count": 77,
   "id": "dbafc21c",
   "metadata": {},
   "outputs": [
    {
     "name": "stdout",
     "output_type": "stream",
     "text": [
      "              precision    recall  f1-score   support\n",
      "\n",
      "           0       0.72      0.90      0.80        51\n",
      "           1       0.91      0.74      0.82        69\n",
      "\n",
      "    accuracy                           0.81       120\n",
      "   macro avg       0.81      0.82      0.81       120\n",
      "weighted avg       0.83      0.81      0.81       120\n",
      "\n",
      "[[46  5]\n",
      " [18 51]]\n"
     ]
    }
   ],
   "source": [
    "#call function\n",
    "r_svc=create_model(r_svc)"
   ]
  },
  {
   "cell_type": "markdown",
   "id": "683b0c39",
   "metadata": {},
   "source": [
    "#### recall-0.74"
   ]
  },
  {
   "cell_type": "markdown",
   "id": "4b2ed3a3",
   "metadata": {},
   "source": [
    "## highest recall for 1 we got in RandomForestClassifier-84%"
   ]
  },
  {
   "cell_type": "code",
   "execution_count": null,
   "id": "34a3a32e",
   "metadata": {},
   "outputs": [],
   "source": []
  },
  {
   "cell_type": "code",
   "execution_count": null,
   "id": "7ac75f58",
   "metadata": {},
   "outputs": [],
   "source": []
  }
 ],
 "metadata": {
  "kernelspec": {
   "display_name": "Python 3 (ipykernel)",
   "language": "python",
   "name": "python3"
  },
  "language_info": {
   "codemirror_mode": {
    "name": "ipython",
    "version": 3
   },
   "file_extension": ".py",
   "mimetype": "text/x-python",
   "name": "python",
   "nbconvert_exporter": "python",
   "pygments_lexer": "ipython3",
   "version": "3.9.12"
  }
 },
 "nbformat": 4,
 "nbformat_minor": 5
}
